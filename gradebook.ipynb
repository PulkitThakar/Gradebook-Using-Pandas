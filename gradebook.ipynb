{
 "cells": [
  {
   "cell_type": "code",
   "execution_count": 17,
   "metadata": {},
   "outputs": [],
   "source": [
    "import pandas as pd\n",
    "import os\n",
    "import glob\n",
    "os.path.abspath('')\n",
    "REPO_PATH = \"c:/Users/Pulkit/Documents/Projects/Gradebook/\"\n",
    "DATA_PATH = REPO_PATH + \"data/\""
   ]
  },
  {
   "cell_type": "code",
   "execution_count": 30,
   "metadata": {},
   "outputs": [
    {
     "name": "stdout",
     "output_type": "stream",
     "text": [
      "                      Email Address  Section\n",
      "NetID                                       \n",
      "wxb12345  woody.barrera_jr@univ.edu        1\n",
      "mxl12345   malaika.lambert@univ.edu        2\n",
      "txj12345       traci.joyce@univ.edu        1\n",
      "jgf12345   john.g.2.flower@univ.edu        3\n",
      "smj00936     stacy.johnson@univ.edu        2\n",
      "...                             ...      ...\n",
      "pmj37756      paul.johnson@univ.edu        3\n",
      "dsl24347      danielle.lee@univ.edu        3\n",
      "nxe44872    nicole.edwards@univ.edu        3\n",
      "bxr62103      bailey.reyes@univ.edu        2\n",
      "jxw53347       joyce.walls@univ.edu        1\n",
      "\n",
      "[150 rows x 2 columns]\n"
     ]
    }
   ],
   "source": [
    "roster = pd.read_csv(\n",
    "    DATA_PATH + \"roster.csv\",\n",
    "    index_col=\"NetID\",\n",
    "    converters={\n",
    "        \"NetID\": str.lower,\n",
    "        \"Email Address\": str.lower\n",
    "    },\n",
    "    usecols=[\"NetID\", \"Email Address\", \"Section\"]\n",
    ")\n",
    "print(roster)"
   ]
  },
  {
   "cell_type": "code",
   "execution_count": 31,
   "metadata": {},
   "outputs": [
    {
     "name": "stdout",
     "output_type": "stream",
     "text": [
      "         First Name   Last Name  Homework 1  Homework 1 - Max Points  \\\n",
      "SID                                                                    \n",
      "axl60952      Aaron      Lester        68.0                       80   \n",
      "amc28428       Adam      Cooper        80.0                       80   \n",
      "axc64717       Alec       Curry        69.0                       80   \n",
      "akr14831  Alexander   Rodriguez        50.0                       80   \n",
      "axd11293      Amber     Daniels        54.0                       80   \n",
      "...             ...         ...         ...                      ...   \n",
      "txw75701     Travis  Washington        64.0                       80   \n",
      "tbr17292       Troy     Raymond        50.0                       80   \n",
      "vkb66346   Victoria        Boyd        58.0                       80   \n",
      "wad63934    William      Daniel        48.0                       80   \n",
      "wxb12345      Woody     Barrera        55.0                       80   \n",
      "\n",
      "          Homework 2  Homework 2 - Max Points  Homework 3  \\\n",
      "SID                                                         \n",
      "axl60952          74                       80          77   \n",
      "amc28428          78                       80          78   \n",
      "axc64717          76                       80          66   \n",
      "akr14831          54                       80          74   \n",
      "axd11293          57                       80          77   \n",
      "...              ...                      ...         ...   \n",
      "txw75701          67                       80          56   \n",
      "tbr17292          59                       80          79   \n",
      "vkb66346          61                       80          75   \n",
      "wad63934          60                       80          72   \n",
      "wxb12345          62                       80          73   \n",
      "\n",
      "          Homework 3 - Max Points  Homework 4  Homework 4 - Max Points  ...  \\\n",
      "SID                                                                     ...   \n",
      "axl60952                       80          89                      100  ...   \n",
      "amc28428                       80          87                      100  ...   \n",
      "axc64717                       80          87                      100  ...   \n",
      "akr14831                       80          75                      100  ...   \n",
      "axd11293                       80          95                      100  ...   \n",
      "...                           ...         ...                      ...  ...   \n",
      "txw75701                       80          92                      100  ...   \n",
      "tbr17292                       80          98                      100  ...   \n",
      "vkb66346                       80          99                      100  ...   \n",
      "wad63934                       80          76                      100  ...   \n",
      "wxb12345                       80          83                      100  ...   \n",
      "\n",
      "          Homework 9  Homework 9 - Max Points  Homework 10  \\\n",
      "SID                                                          \n",
      "axl60952          42                       60           41   \n",
      "amc28428          45                       60           53   \n",
      "axc64717          58                       60           42   \n",
      "akr14831          38                       60           47   \n",
      "axd11293          46                       60           59   \n",
      "...              ...                      ...          ...   \n",
      "txw75701          40                       60           52   \n",
      "tbr17292          45                       60           49   \n",
      "vkb66346          40                       60           50   \n",
      "wad63934          51                       60           36   \n",
      "wxb12345          45                       60           46   \n",
      "\n",
      "          Homework 10 - Max Points  Exam 1  Exam 1 - Max Points  Exam 2  \\\n",
      "SID                                                                       \n",
      "axl60952                        60      79                  100      63   \n",
      "amc28428                        60      65                  100      63   \n",
      "axc64717                        60      65                  100      78   \n",
      "akr14831                        60      97                  100      97   \n",
      "axd11293                        60      68                  100      95   \n",
      "...                            ...     ...                  ...     ...   \n",
      "txw75701                        60      94                  100      74   \n",
      "tbr17292                        60      91                  100      67   \n",
      "vkb66346                        60      68                  100      93   \n",
      "wad63934                        60      84                  100      91   \n",
      "wxb12345                        60      86                  100      62   \n",
      "\n",
      "          Exam 2 - Max Points  Exam 3  Exam 3 - Max Points  \n",
      "SID                                                         \n",
      "axl60952                  100      68                  100  \n",
      "amc28428                  100      90                  100  \n",
      "axc64717                  100      83                  100  \n",
      "akr14831                  100      81                  100  \n",
      "axd11293                  100      88                  100  \n",
      "...                       ...     ...                  ...  \n",
      "txw75701                  100      68                  100  \n",
      "tbr17292                  100     100                  100  \n",
      "vkb66346                  100      69                  100  \n",
      "wad63934                  100      95                  100  \n",
      "wxb12345                  100      90                  100  \n",
      "\n",
      "[150 rows x 28 columns]\n"
     ]
    }
   ],
   "source": [
    "hwExamGrades = pd.read_csv(\n",
    "    DATA_PATH + \"hw_exam_grades.csv\",\n",
    "    index_col=\"SID\",\n",
    "    converters={\n",
    "        \"SID\": str.lower\n",
    "    },\n",
    "    usecols=lambda x: \"Submission\" not in x\n",
    ")\n",
    "print(hwExamGrades)"
   ]
  },
  {
   "cell_type": "code",
   "execution_count": 41,
   "metadata": {},
   "outputs": [
    {
     "name": "stdout",
     "output_type": "stream",
     "text": [
      "Empty DataFrame\n",
      "Columns: []\n",
      "Index: []\n",
      "---------------------------------------------\n",
      "                          quiz 1  quiz 2  quiz 3  quiz 4  quiz 5\n",
      "Email                                                           \n",
      "richard.bennett@univ.edu      10      10      10      10      10\n",
      "timothy.parker@univ.edu        9       9       9       9       9\n",
      "carol.reyes@univ.edu           5       5       5       5       5\n",
      "brooke.powers@univ.edu         6       6       6       6       6\n",
      "michael.taylor@univ.edu        5       5       5       5       5\n",
      "...                          ...     ...     ...     ...     ...\n",
      "jeffrey.perez@univ.edu         4       4       4       4       4\n",
      "angela.dunlap@univ.edu         6       6       6       6       6\n",
      "richard.elliott@univ.edu       6       6       6       6       6\n",
      "donna.nguyen@univ.edu          7       7       7       7       7\n",
      "timothy.ramirez@univ.edu       4       4       4       4       4\n",
      "\n",
      "[150 rows x 5 columns]\n",
      "---------------------------------------------\n"
     ]
    }
   ],
   "source": [
    "quizGradesFiles = [\"quiz_1_grades.csv\", \"quiz_2_grades.csv\", \"quiz_3_grades.csv\", \"quiz_4_grades.csv\", \"quiz_5_grades.csv\"]\n",
    "quizGrades = pd.DataFrame()\n",
    "print(quizGrades)\n",
    "print(\"---------------------------------------------\")\n",
    "for i in quizGradesFiles:\n",
    "    quizName = \" \".join(i.split(\"_\")[:2])\n",
    "    quiz = pd.read_csv(\n",
    "        DATA_PATH + \"quiz_1_grades.csv\",\n",
    "        index_col=\"Email\",\n",
    "        converters={\n",
    "            \"Email\": str.lower\n",
    "        },\n",
    "        usecols=[\"Email\", \"Grade\"]\n",
    "    ).rename(columns={\"Grade\": quizName})\n",
    "    quizGrades = pd.concat([quizGrades, quiz], axis=1)\n",
    "\n",
    "print(quizGrades)\n",
    "print(\"---------------------------------------------\")"
   ]
  },
  {
   "cell_type": "code",
   "execution_count": null,
   "metadata": {},
   "outputs": [],
   "source": []
  },
  {
   "cell_type": "code",
   "execution_count": null,
   "metadata": {},
   "outputs": [],
   "source": []
  }
 ],
 "metadata": {
  "kernelspec": {
   "display_name": "Python 3",
   "language": "python",
   "name": "python3"
  },
  "language_info": {
   "codemirror_mode": {
    "name": "ipython",
    "version": 3
   },
   "file_extension": ".py",
   "mimetype": "text/x-python",
   "name": "python",
   "nbconvert_exporter": "python",
   "pygments_lexer": "ipython3",
   "version": "3.11.4"
  }
 },
 "nbformat": 4,
 "nbformat_minor": 2
}
